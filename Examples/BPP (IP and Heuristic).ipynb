{
 "cells": [
  {
   "cell_type": "markdown",
   "metadata": {},
   "source": [
    "# Bin Packing Problem (BPP)\n",
    "\n",
    "Given a set of $n$ items with weight $w_i$ for item $i=0,\\ldots,n-1$, and an unlimited number of bins with identical capacities $c$ (all parameters are positive integers), assign each item to one bin so that the total weight of the items in each bin does not exceed $c$ and the number of bins used is a minimum.\n",
    "\n",
    "Example application in shipping: The dispatcher of cargo has to decide how to assign a set of packages with given weights $w_i$ into a minimum number of containers. The only constraint is that the total weight packed in any container must not exceed the capacity $c$.\n",
    "\n",
    "URL: https://www.youtube.com/watch?v=4NlTKrXfnxs"
   ]
  },
  {
   "cell_type": "markdown",
   "metadata": {},
   "source": [
    "# Mathematical Model of BPP\n",
    "\n",
    "$n$ = number of items <br>\n",
    "$UB = n$ = maximum number of bins (UB can be obtained by a fast heuristic)\n",
    "\n",
    "Variables:\n",
    "\n",
    "$x_{ij}=1$ if item $i$ is assigned to bin $j$, $=0$ otherwise, $i=0,\\ldots,n-1$, $j=0,\\ldots,UB-1$\n",
    "\n",
    "$y_j=1$ if bin $j$ is used, $=0$ otherwise, $j=0,\\ldots,UB-1$\n",
    "\n",
    "$\\min \\sum_{j=0}^{UB-1} y_j$ (number of bins used)\n",
    "\n",
    "subject to:\n",
    "\n",
    "$\\sum_{j=0}^{UB-1} x_{ij}=1$ for $i=0,\\ldots,n-1$ (item in exactly one bin)\n",
    "\n",
    "$\\sum_{i=0}^{n-1} w_i x_{ij} \\leq c y_j$ for $j=0,\\ldots,UB-1$ (total weight in each bin; also, linking $x_{ij}$ with $y_j$)\n",
    "\n",
    "$x_{ij}\\in\\{0,1\\}$ for $i=0,\\ldots,n-1$, $j=0,\\ldots,UB-1$\n",
    "\n",
    "$y_j\\in\\{0,1\\}$ for $j=0,\\ldots,UB-1$"
   ]
  },
  {
   "cell_type": "code",
   "metadata": {
    "ExecuteTime": {
     "end_time": "2024-12-17T19:06:29.217540Z",
     "start_time": "2024-12-17T19:06:29.100502Z"
    }
   },
   "source": [
    "import pandas as pd\n",
    "import numpy as np\n",
    "import math\n",
    "import pulp as p\n",
    "\n",
    "# Read a set of instances (each line is a separate instance)\n",
    "bpp_data_set = [\n",
    "    {'instance_name': 'example_6', 'c':  10,  'w': [9, 8, 2, 2, 5, 4]},\n",
    "    {'instance_name': 'case_example', 'c':  10,  'w': [    6, 6, 5, 5, 5, 4, 4, 4, 4, 2, 2, 2, 2, 3, 3, 7, 7, 5, 5, 8, 8, 4, 4, 5]},\n",
    "    {'instance_name': 'case_example0', 'c':  10,  'w': [5, 7, 5, 2, 4, 2, 5, 1, 6]},\n",
    "    {'instance_name': 'case_example1', 'c':  8,  'w': [3, 3, 2, 2, 2, 5, 2 , 3 , 2]},\n",
    "    {'instance_name': 'case_example2', 'c':  10,  'w': [3, 3, 3, 3, 3, 2, 2, 2, 2, 8, 8, 8, 5, 6, 6, 6, 6]},\n",
    "    {'instance_name': 'case_example3', 'c':  100,  'w': [29, 52, 73, 87, 74, 47, 38, 61, 41]},\n",
    "    {'instance_name': 'case_example4', 'c':  60,  'w': [32, 45, 17, 23, 38, 28, 16, 9, 12, 10,29, 52, 73, 87, 74, 47, 38, 61, 41]},    \n",
    "    {'instance_name': 'u_60_0',    'c':  150, 'w': [98, 93, 92, 90, 86, 85, 84, 84, 82, 82, 80, 79, 74, 74, 73, 72, 70, 69, 69, 67, 64, 62, 59, 57, 57, 57, 57, 55, 55, 50, 49, 49, 46, 46, 45, 44, 42, 42, 42, 41, 39, 38, 38, 38, 36, 36, 35, 33, 33, 33, 32, 30, 30, 30, 29, 28, 27, 27, 25, 23]},\n",
    "    {'instance_name': 't_60_0',    'c': 1000, 'w': [495, 474, 473, 472, 466, 450, 445, 444, 439, 430, 419, 414, 410, 395, 372, 370, 366, 366, 366, 363, 361, 357, 355, 351, 350, 350, 347, 320, 315, 307, 303, 299, 298, 298, 292, 288, 287, 283, 275, 275, 274, 273, 273, 272, 272, 271, 269, 269, 268, 263, 262, 261, 259, 258, 255, 254, 252, 252, 252, 251]},\n",
    "#    {'instance_name': 'u_120_0',   'c':  150, 'w': [98, 98, 98, 96, 96, 94, 93, 93, 92, 91, 91, 90, 87, 86, 85, 85, 84, 84, 84, 84, 84, 83, 83, 82, 82, 81, 80, 80, 80, 79, 79, 78, 78, 78, 78, 76, 74, 74, 73, 73, 73, 73, 72, 71, 70, 70, 70, 69, 69, 69, 67, 66, 64, 62, 62, 60, 60, 59, 58, 58, 58, 57, 57, 57, 57, 55, 55, 55, 50, 49, 49, 49, 47, 46, 46, 45, 45, 44, 44, 43, 43, 43, 43, 42, 42, 42, 42, 42, 41, 41, 41, 39, 39, 38, 38, 38, 37, 36, 36, 36, 35, 33, 33, 33, 32, 32, 30, 30, 30, 29, 28, 27, 27, 26, 25, 25, 24, 23, 23, 20]},\n",
    "#    {'instance_name': 'hard28_27', 'c': 1000, 'w': [794, 793, 792, 790, 788, 787, 784, 780, 779, 776, 774, 772, 770, 767, 762, 758, 756, 756, 753, 750, 747, 740, 740, 729, 728, 724, 719, 719, 710, 702, 702, 693, 690, 686, 682, 669, 662, 656, 655, 653, 641, 637, 634, 633, 633, 631, 628, 626, 625, 621, 610, 605, 600, 590, 583, 579, 578, 578, 568, 567, 563, 562, 562, 559, 552, 549, 548, 546, 546, 542, 540, 533, 529, 524, 522, 521, 521, 511, 500, 499, 492, 492, 489, 486, 483, 466, 466, 465, 463, 455, 451, 445, 445, 431, 426, 424, 411, 410, 405, 404, 388, 379, 379, 366, 364, 362, 361, 350, 348, 345, 344, 335, 327, 327, 323, 321, 319, 319, 315, 313, 312, 300, 296, 286, 285, 280, 277, 269, 267, 266, 262, 261, 243, 243, 234, 232, 230, 228, 225, 219, 217, 215, 214, 208, 207, 202, 199, 195, 193, 186, 186, 183, 180, 178, 176, 174, 173, 172, 172, 168, 163, 161, 159, 158, 150, 150, 148, 140, 138, 133, 126, 117, 116, 115, 111, 109, 106, 100, 97, 94, 92, 90, 84, 72, 72, 71, 71, 66, 53, 51, 49, 41, 40, 31, 28, 10, 7, 5, 3, 1]},\n",
    "#    {'instance_name': 'u_250_0',   'c':  150, 'w': [100, 100, 100, 99, 99, 98, 98, 98, 98, 98, 98, 98, 98, 97, 97, 97, 96, 96, 95, 95, 95, 94, 94, 93, 93, 92, 92, 92, 91, 91, 90, 90, 90, 88, 88, 87, 86, 85, 85, 85, 84, 84, 84, 84, 84, 83, 83, 82, 82, 82, 81, 81, 81, 81, 80, 80, 80, 80, 80, 80, 79, 79, 79, 79, 78, 78, 78, 78, 78, 78, 76, 76, 75, 75, 74, 74, 74, 73, 73, 73, 73, 72, 72, 72, 71, 71, 70, 70, 70, 70, 70, 70, 69, 69, 69, 69, 68, 67, 67, 67, 67, 67, 66, 66, 66, 65, 65, 64, 64, 62, 62, 62, 61, 61, 60, 60, 60, 60, 60, 60, 59, 59, 58, 58, 58, 58, 57, 57, 57, 57, 57, 57, 57, 55, 55, 55, 55, 55, 53, 53, 53, 53, 53, 53, 52, 52, 50, 50, 49, 49, 49, 49, 49, 48, 48, 47, 47, 47, 47, 46, 46, 46, 46, 45, 45, 45, 45, 45, 44, 44, 44, 43, 43, 43, 43, 43, 43, 43, 42, 42, 42, 42, 42, 42, 41, 41, 41, 41, 39, 39, 39, 39, 39, 38, 38, 38, 38, 38, 38, 37, 37, 36, 36, 36, 36, 36, 36, 35, 35, 33, 33, 33, 33, 32, 32, 32, 32, 30, 30, 30, 30, 30, 29, 29, 29, 28, 27, 27, 27, 27, 27, 26, 25, 25, 25, 24, 24, 24, 23, 23, 23, 23, 23, 22, 22, 22, 20, 20, 20, 20]},\n",
    "#    {'instance_name': 'u_500_0',   'c':  150, 'w': [100, 100, 100, 100, 100, 100, 99, 99, 99, 98, 98, 98, 98, 98, 98, 98, 98, 98, 98, 97, 97, 97, 97, 97, 97, 97, 97, 97, 96, 96, 96, 96, 96, 96, 95, 95, 95, 95, 95, 95, 95, 94, 94, 94, 94, 93, 93, 92, 92, 92, 92, 92, 92, 91, 91, 91, 91, 91, 91, 91, 90, 90, 90, 90, 90, 90, 90, 90, 90, 89, 89, 88, 88, 88, 88, 87, 87, 87, 86, 86, 86, 86, 85, 85, 85, 85, 85, 84, 84, 84, 84, 84, 84, 84, 84, 84, 84, 84, 84, 83, 83, 83, 83, 82, 82, 82, 82, 82, 81, 81, 81, 81, 81, 81, 81, 80, 80, 80, 80, 80, 80, 80, 80, 80, 80, 80, 80, 80, 79, 79, 79, 79, 79, 79, 79, 79, 78, 78, 78, 78, 78, 78, 78, 78, 77, 76, 76, 76, 76, 76, 76, 75, 75, 75, 75, 75, 74, 74, 74, 74, 74, 74, 73, 73, 73, 73, 73, 73, 73, 73, 72, 72, 72, 71, 71, 71, 71, 71, 71, 70, 70, 70, 70, 70, 70, 70, 70, 70, 69, 69, 69, 69, 69, 68, 68, 68, 68, 67, 67, 67, 67, 67, 67, 67, 67, 67, 67, 66, 66, 66, 66, 66, 66, 66, 65, 65, 65, 65, 64, 64, 64, 64, 64, 64, 64, 63, 63, 63, 62, 62, 62, 62, 62, 62, 61, 61, 61, 61, 61, 60, 60, 60, 60, 60, 60, 60, 60, 59, 59, 59, 59, 59, 58, 58, 58, 58, 58, 58, 57, 57, 57, 57, 57, 57, 57, 57, 57, 57, 56, 56, 55, 55, 55, 55, 55, 54, 54, 54, 53, 53, 53, 53, 53, 53, 53, 53, 53, 52, 52, 52, 51, 51, 50, 50, 50, 50, 49, 49, 49, 49, 49, 49, 48, 48, 48, 48, 48, 48, 47, 47, 47, 47, 47, 47, 47, 46, 46, 46, 46, 46, 46, 46, 46, 46, 46, 45, 45, 45, 45, 45, 45, 45, 45, 45, 45, 44, 44, 44, 44, 44, 43, 43, 43, 43, 43, 43, 43, 43, 43, 42, 42, 42, 42, 42, 42, 42, 42, 42, 42, 42, 41, 41, 41, 41, 41, 41, 40, 40, 40, 40, 39, 39, 39, 39, 39, 39, 38, 38, 38, 38, 38, 38, 38, 38, 37, 37, 37, 37, 37, 37, 37, 37, 36, 36, 36, 36, 36, 36, 36, 36, 35, 35, 35, 35, 35, 35, 35, 35, 35, 34, 34, 34, 34, 33, 33, 33, 33, 33, 33, 32, 32, 32, 32, 32, 32, 32, 32, 31, 31, 31, 30, 30, 30, 30, 30, 30, 30, 30, 29, 29, 29, 29, 29, 29, 29, 29, 29, 28, 28, 28, 28, 27, 27, 27, 27, 27, 27, 27, 27, 27, 26, 26, 26, 26, 26, 26, 25, 25, 25, 25, 25, 25, 25, 25, 24, 24, 24, 24, 24, 24, 23, 23, 23, 23, 23, 23, 22, 22, 22, 22, 22, 21, 21, 21, 21, 20, 20, 20, 20, 20]},\n",
    "#    {'instance_name': 'set_1_714', 'c':  150, 'w': [100, 100, 100, 100, 100, 100, 99, 99, 99, 99, 99, 99, 99, 99, 98, 98, 98, 98, 98, 98, 98, 98, 98, 98, 97, 97, 97, 97, 97, 97, 97, 97, 97, 97, 96, 96, 95, 95, 95, 95, 95, 95, 95, 95, 94, 94, 94, 94, 94, 94, 94, 94, 93, 93, 93, 93, 93, 93, 93, 93, 93, 93, 92, 92, 92, 91, 91, 91, 91, 91, 91, 91, 90, 90, 90, 90, 90, 90, 90, 90, 90, 89, 89, 89, 89, 89, 89, 89, 89, 88, 88, 88, 88, 88, 88, 88, 88, 88, 88, 87, 87, 87, 87, 87, 87, 87, 87, 87, 86, 86, 86, 86, 86, 86, 86, 85, 85, 85, 85, 85, 85, 85, 85, 85, 84, 84, 84, 84, 84, 84, 84, 84, 84, 83, 83, 83, 83, 83, 83, 83, 83, 83, 83, 83, 83, 82, 82, 82, 82, 82, 82, 82, 82, 81, 81, 81, 81, 81, 81, 81, 81, 80, 80, 80, 80, 80, 79, 79, 79, 79, 79, 79, 79, 79, 79, 79, 79, 78, 78, 78, 78, 78, 78, 78, 77, 77, 77, 77, 77, 77, 77, 76, 76, 76, 76, 76, 76, 75, 75, 75, 75, 75, 75, 75, 75, 75, 75, 75, 74, 74, 74, 74, 74, 74, 74, 74, 73, 73, 73, 73, 73, 73, 72, 72, 72, 72, 72, 72, 72, 71, 71, 71, 71, 71, 71, 71, 71, 71, 71, 71, 70, 70, 70, 70, 70, 70, 70, 70, 70, 70, 69, 69, 69, 69, 69, 68, 68, 68, 68, 68, 68, 68, 68, 67, 67, 67, 67, 67, 67, 67, 66, 66, 66, 66, 66, 66, 66, 66, 66, 65, 65, 65, 65, 65, 64, 64, 64, 64, 64, 64, 64, 64, 64, 64, 64, 64, 64, 64, 63, 63, 63, 63, 63, 63, 63, 62, 62, 62, 62, 62, 61, 61, 61, 60, 60, 60, 60, 59, 59, 59, 59, 59, 58, 58, 58, 58, 58, 58, 57, 57, 57, 57, 57, 57, 57, 57, 57, 56, 56, 56, 56, 56, 56, 56, 56, 56, 56, 55, 55, 55, 55, 55, 55, 55, 55, 55, 54, 54, 54, 54, 54, 54, 54, 53, 53, 53, 53, 53, 53, 53, 52, 52, 52, 52, 52, 52, 51, 51, 51, 50, 50, 50, 50, 49, 49, 49, 49, 49, 49, 48, 48, 48, 48, 48, 48, 48, 48, 48, 47, 47, 47, 47, 46, 46, 46, 46, 45, 44, 44, 44, 44, 44, 44, 44, 43, 43, 43, 43, 43, 43, 43, 42, 42, 42, 42, 42, 41, 41, 40, 40, 40, 40, 40, 39, 39, 39, 39, 38, 38, 38, 38, 38, 38, 38, 37, 37, 37, 37, 37, 37, 37, 37, 37, 37, 36, 36, 36, 36, 36, 35, 35, 35, 35, 35, 35, 35, 35, 35, 35, 34, 34, 34, 34, 34, 34, 34, 34, 34, 34, 33, 33, 33, 32, 32, 32, 32, 32, 32, 32, 32, 31, 31, 31, 31, 31, 31, 30, 30, 30, 30]},\n",
    "#    {'instance_name': 'set_2_388', 'c': 1000, 'w': [626, 625, 624, 622, 620, 620, 620, 619, 613, 611, 610, 609, 608, 606, 606, 604, 601, 601, 601, 600, 598, 598, 597, 591, 587, 586, 586, 586, 584, 584, 584, 584, 583, 583, 582, 582, 581, 581, 581, 579, 579, 579, 578, 578, 578, 576, 573, 570, 569, 567, 567, 565, 564, 562, 559, 559, 558, 557, 555, 553, 553, 550, 550, 547, 545, 544, 543, 542, 541, 541, 540, 540, 539, 539, 537, 536, 535, 533, 532, 531, 529, 528, 527, 527, 525, 524, 524, 523, 521, 520, 520, 518, 518, 518, 517, 517, 516, 516, 515, 514, 514, 512, 507, 506, 505, 505, 504, 503, 502, 502, 502, 501, 500, 499, 499, 497, 497, 496, 495, 495, 495, 494, 493, 491, 491, 487, 485, 484, 483, 482, 480, 479, 478, 475, 475, 475, 472, 471, 471, 469, 468, 467, 466, 465, 465, 463, 463, 462, 462, 462, 462, 461, 461, 461, 460, 458, 457, 457, 456, 454, 454, 452, 451, 447, 443, 443, 442, 439, 439, 439, 438, 437, 435, 434, 433, 431, 431, 428, 428, 428, 427, 427, 425, 425, 423, 421, 420, 419, 417, 416, 415, 412, 411, 411, 406, 405, 404, 401, 401, 400, 397, 397, 396, 395, 394, 394, 394, 393, 393, 390, 390, 388, 388, 386, 385, 383, 381, 378, 378, 377, 377, 376, 375, 375, 373, 372, 370, 369, 369, 367, 366, 365, 365, 364, 364, 363, 360, 359, 359, 358, 354, 353, 353, 353, 352, 350, 349, 348, 345, 345, 345, 344, 342, 342, 341, 340, 335, 333, 333, 332, 331, 331, 329, 328, 327, 326, 326, 325, 325, 322, 322, 321, 321, 321, 320, 318, 317, 317, 317, 317, 317, 317, 316, 315, 314, 313, 313, 312, 310, 308, 307, 307, 306, 306, 306, 302, 298, 296, 296, 295, 295, 295, 293, 293, 291, 289, 288, 287, 287, 286, 285, 285, 282, 281, 280, 275, 274, 274, 270, 269, 269, 268, 268, 266, 265, 265, 263, 263, 263, 263, 262, 261, 258, 257, 257, 257, 255, 253, 252, 250, 250, 246, 243, 243, 240, 240, 237, 237, 236, 234, 234, 233, 231, 230, 228, 227, 226, 226, 225, 225, 223, 221, 220, 220, 218, 217, 217, 216, 214, 212, 212, 211, 206, 206, 203, 203, 202, 202, 201, 201, 201, 201, 200, 194, 194, 194, 192, 191, 190, 186, 186, 183, 183, 174, 171, 167, 167, 167, 166, 163, 163, 162, 159, 158, 157, 156, 156, 151, 150, 148, 145, 145, 143, 142, 141, 137, 136, 132, 132, 131, 131, 129, 129, 128, 126, 126, 125, 125, 122, 121, 120, 119, 114, 113, 112, 111, 109, 109, 109, 109, 106, 105, 105, 102, 102, 100, 95, 95, 91, 91, 88, 88, 87, 84, 84, 82, 81, 80, 78, 76, 75, 75, 73, 73, 73, 72, 69, 69, 68, 67, 65, 65, 64, 64, 62, 61, 59, 57, 57, 53, 51, 51, 49, 49, 49, 49, 48, 47, 46, 45, 44, 43, 42, 42, 41, 39, 39, 38, 37, 35]},\n",
    "#    {'instance_name': 'u_1000_0',  'c':  150, 'w': [100, 100, 100, 100, 100, 100, 100, 100, 100, 100, 100, 100, 100, 100, 100, 99, 99, 99, 99, 99, 99, 99, 99, 99, 99, 98, 98, 98, 98, 98, 98, 98, 98, 98, 98, 98, 98, 98, 98, 98, 98, 97, 97, 97, 97, 97, 97, 97, 97, 97, 97, 97, 97, 97, 97, 97, 97, 97, 96, 96, 96, 96, 96, 96, 96, 96, 96, 96, 95, 95, 95, 95, 95, 95, 95, 95, 95, 95, 95, 95, 95, 95, 94, 94, 94, 94, 94, 94, 94, 94, 94, 93, 93, 93, 92, 92, 92, 92, 92, 92, 92, 92, 92, 92, 92, 92, 92, 92, 92, 91, 91, 91, 91, 91, 91, 91, 91, 91, 91, 91, 91, 91, 91, 91, 90, 90, 90, 90, 90, 90, 90, 90, 90, 90, 90, 90, 90, 89, 89, 89, 89, 89, 89, 89, 89, 88, 88, 88, 88, 88, 88, 88, 88, 88, 88, 88, 88, 88, 87, 87, 87, 87, 87, 87, 87, 87, 87, 87, 86, 86, 86, 86, 86, 86, 86, 85, 85, 85, 85, 85, 85, 85, 85, 85, 85, 85, 84, 84, 84, 84, 84, 84, 84, 84, 84, 84, 84, 84, 84, 84, 84, 84, 84, 84, 84, 84, 83, 83, 83, 83, 83, 83, 83, 83, 83, 83, 82, 82, 82, 82, 82, 82, 82, 82, 82, 82, 82, 82, 82, 81, 81, 81, 81, 81, 81, 81, 81, 81, 81, 81, 81, 81, 81, 80, 80, 80, 80, 80, 80, 80, 80, 80, 80, 80, 80, 80, 80, 80, 80, 80, 79, 79, 79, 79, 79, 79, 79, 79, 79, 79, 79, 79, 79, 78, 78, 78, 78, 78, 78, 78, 78, 78, 78, 78, 78, 78, 78, 78, 77, 77, 77, 77, 77, 76, 76, 76, 76, 76, 76, 76, 76, 76, 75, 75, 75, 75, 75, 75, 75, 75, 75, 75, 75, 74, 74, 74, 74, 74, 74, 74, 74, 74, 73, 73, 73, 73, 73, 73, 73, 73, 73, 73, 73, 73, 72, 72, 72, 72, 72, 72, 72, 72, 72, 72, 72, 71, 71, 71, 71, 71, 71, 71, 71, 71, 71, 71, 71, 70, 70, 70, 70, 70, 70, 70, 70, 70, 70, 70, 70, 70, 70, 70, 70, 69, 69, 69, 69, 69, 69, 69, 69, 69, 69, 69, 69, 69, 69, 69, 69, 68, 68, 68, 68, 68, 68, 68, 68, 67, 67, 67, 67, 67, 67, 67, 67, 67, 67, 67, 67, 67, 67, 67, 66, 66, 66, 66, 66, 66, 66, 66, 66, 66, 66, 66, 66, 66, 66, 65, 65, 65, 65, 65, 65, 65, 65, 65, 64, 64, 64, 64, 64, 64, 64, 64, 64, 64, 64, 64, 64, 63, 63, 63, 63, 63, 63, 63, 62, 62, 62, 62, 62, 62, 62, 62, 62, 62, 62, 62, 62, 61, 61, 61, 61, 61, 61, 61, 61, 61, 61, 61, 60, 60, 60, 60, 60, 60, 60, 60, 60, 60, 60, 60, 60, 60, 60, 60, 60, 60, 60, 59, 59, 59, 59, 59, 59, 59, 59, 59, 59, 58, 58, 58, 58, 58, 58, 58, 58, 58, 58, 58, 57, 57, 57, 57, 57, 57, 57, 57, 57, 57, 57, 57, 57, 57, 57, 57, 57, 56, 56, 56, 56, 56, 56, 56, 56, 56, 55, 55, 55, 55, 55, 55, 55, 55, 55, 55, 55, 55, 55, 55, 54, 54, 54, 54, 54, 54, 54, 54, 53, 53, 53, 53, 53, 53, 53, 53, 53, 53, 53, 53, 53, 53, 53, 53, 53, 53, 53, 53, 53, 52, 52, 52, 52, 52, 52, 52, 52, 52, 51, 51, 51, 51, 51, 51, 51, 50, 50, 50, 50, 50, 50, 50, 50, 50, 50, 50, 50, 49, 49, 49, 49, 49, 49, 49, 49, 49, 49, 48, 48, 48, 48, 48, 48, 48, 48, 48, 48, 48, 48, 48, 48, 48, 48, 47, 47, 47, 47, 47, 47, 47, 47, 47, 47, 47, 47, 47, 46, 46, 46, 46, 46, 46, 46, 46, 46, 46, 46, 46, 46, 46, 45, 45, 45, 45, 45, 45, 45, 45, 45, 45, 45, 45, 45, 45, 45, 45, 45, 44, 44, 44, 44, 44, 44, 44, 44, 44, 44, 44, 44, 44, 44, 43, 43, 43, 43, 43, 43, 43, 43, 43, 43, 43, 43, 43, 43, 43, 43, 42, 42, 42, 42, 42, 42, 42, 42, 42, 42, 42, 42, 42, 42, 42, 42, 42, 42, 41, 41, 41, 41, 41, 41, 41, 41, 41, 41, 41, 41, 40, 40, 40, 40, 40, 40, 40, 40, 40, 40, 40, 39, 39, 39, 39, 39, 39, 39, 39, 39, 39, 38, 38, 38, 38, 38, 38, 38, 38, 38, 38, 38, 37, 37, 37, 37, 37, 37, 37, 37, 37, 37, 37, 37, 37, 37, 37, 37, 37, 37, 37, 36, 36, 36, 36, 36, 36, 36, 36, 36, 36, 36, 36, 36, 35, 35, 35, 35, 35, 35, 35, 35, 35, 35, 35, 35, 34, 34, 34, 34, 34, 34, 34, 34, 34, 34, 34, 34, 34, 33, 33, 33, 33, 33, 33, 33, 33, 32, 32, 32, 32, 32, 32, 32, 32, 32, 32, 32, 32, 32, 32, 32, 32, 32, 31, 31, 31, 31, 31, 31, 31, 31, 31, 30, 30, 30, 30, 30, 30, 30, 30, 30, 30, 30, 29, 29, 29, 29, 29, 29, 29, 29, 29, 29, 29, 29, 28, 28, 28, 28, 28, 28, 27, 27, 27, 27, 27, 27, 27, 27, 27, 27, 27, 27, 27, 27, 27, 27, 27, 27, 27, 26, 26, 26, 26, 26, 26, 26, 26, 26, 26, 26, 25, 25, 25, 25, 25, 25, 25, 25, 25, 25, 25, 25, 24, 24, 24, 24, 24, 24, 24, 24, 24, 24, 24, 24, 23, 23, 23, 23, 23, 23, 23, 23, 23, 23, 23, 23, 23, 22, 22, 22, 22, 22, 22, 22, 22, 21, 21, 21, 21, 21, 21, 21, 21, 21, 21, 21, 21, 20, 20, 20, 20, 20, 20, 20, 20, 20, 20, 20, 20, 20, 20]},\n",
    "];\n",
    "\n",
    "def lb(c, w):\n",
    "    return int(math.ceil(sum(w) / c))\n",
    "\n",
    "df = pd.DataFrame(bpp_data_set, columns=['instance_name', 'c', 'w'])\n",
    "df['n'] = df['w'].apply(len)\n",
    "df['wmin'] = df['w'].apply(min)\n",
    "df['wmax'] = df['w'].apply(max)\n",
    "df['lb'] = df.apply(lambda x: lb(x['c'], x['w']), axis=1)\n",
    "display(df)"
   ],
   "outputs": [
    {
     "data": {
      "text/plain": [
       "   instance_name     c                                                  w   n  \\\n",
       "0      example_6    10                                 [9, 8, 2, 2, 5, 4]   6   \n",
       "1   case_example    10  [6, 6, 5, 5, 5, 4, 4, 4, 4, 2, 2, 2, 2, 3, 3, ...  24   \n",
       "2  case_example0    10                        [5, 7, 5, 2, 4, 2, 5, 1, 6]   9   \n",
       "3  case_example1     8                        [3, 3, 2, 2, 2, 5, 2, 3, 2]   9   \n",
       "4  case_example2    10  [3, 3, 3, 3, 3, 2, 2, 2, 2, 8, 8, 8, 5, 6, 6, ...  17   \n",
       "5  case_example3   100               [29, 52, 73, 87, 74, 47, 38, 61, 41]   9   \n",
       "6  case_example4    60  [32, 45, 17, 23, 38, 28, 16, 9, 12, 10, 29, 52...  19   \n",
       "7         u_60_0   150  [98, 93, 92, 90, 86, 85, 84, 84, 82, 82, 80, 7...  60   \n",
       "8         t_60_0  1000  [495, 474, 473, 472, 466, 450, 445, 444, 439, ...  60   \n",
       "\n",
       "   wmin  wmax  lb  \n",
       "0     2     9   3  \n",
       "1     2     8  11  \n",
       "2     1     7   4  \n",
       "3     2     5   3  \n",
       "4     2     8   8  \n",
       "5    29    87   6  \n",
       "6     9    87  13  \n",
       "7    23    98  22  \n",
       "8   251   495  20  "
      ],
      "text/html": [
       "<div>\n",
       "<style scoped>\n",
       "    .dataframe tbody tr th:only-of-type {\n",
       "        vertical-align: middle;\n",
       "    }\n",
       "\n",
       "    .dataframe tbody tr th {\n",
       "        vertical-align: top;\n",
       "    }\n",
       "\n",
       "    .dataframe thead th {\n",
       "        text-align: right;\n",
       "    }\n",
       "</style>\n",
       "<table border=\"1\" class=\"dataframe\">\n",
       "  <thead>\n",
       "    <tr style=\"text-align: right;\">\n",
       "      <th></th>\n",
       "      <th>instance_name</th>\n",
       "      <th>c</th>\n",
       "      <th>w</th>\n",
       "      <th>n</th>\n",
       "      <th>wmin</th>\n",
       "      <th>wmax</th>\n",
       "      <th>lb</th>\n",
       "    </tr>\n",
       "  </thead>\n",
       "  <tbody>\n",
       "    <tr>\n",
       "      <th>0</th>\n",
       "      <td>example_6</td>\n",
       "      <td>10</td>\n",
       "      <td>[9, 8, 2, 2, 5, 4]</td>\n",
       "      <td>6</td>\n",
       "      <td>2</td>\n",
       "      <td>9</td>\n",
       "      <td>3</td>\n",
       "    </tr>\n",
       "    <tr>\n",
       "      <th>1</th>\n",
       "      <td>case_example</td>\n",
       "      <td>10</td>\n",
       "      <td>[6, 6, 5, 5, 5, 4, 4, 4, 4, 2, 2, 2, 2, 3, 3, ...</td>\n",
       "      <td>24</td>\n",
       "      <td>2</td>\n",
       "      <td>8</td>\n",
       "      <td>11</td>\n",
       "    </tr>\n",
       "    <tr>\n",
       "      <th>2</th>\n",
       "      <td>case_example0</td>\n",
       "      <td>10</td>\n",
       "      <td>[5, 7, 5, 2, 4, 2, 5, 1, 6]</td>\n",
       "      <td>9</td>\n",
       "      <td>1</td>\n",
       "      <td>7</td>\n",
       "      <td>4</td>\n",
       "    </tr>\n",
       "    <tr>\n",
       "      <th>3</th>\n",
       "      <td>case_example1</td>\n",
       "      <td>8</td>\n",
       "      <td>[3, 3, 2, 2, 2, 5, 2, 3, 2]</td>\n",
       "      <td>9</td>\n",
       "      <td>2</td>\n",
       "      <td>5</td>\n",
       "      <td>3</td>\n",
       "    </tr>\n",
       "    <tr>\n",
       "      <th>4</th>\n",
       "      <td>case_example2</td>\n",
       "      <td>10</td>\n",
       "      <td>[3, 3, 3, 3, 3, 2, 2, 2, 2, 8, 8, 8, 5, 6, 6, ...</td>\n",
       "      <td>17</td>\n",
       "      <td>2</td>\n",
       "      <td>8</td>\n",
       "      <td>8</td>\n",
       "    </tr>\n",
       "    <tr>\n",
       "      <th>5</th>\n",
       "      <td>case_example3</td>\n",
       "      <td>100</td>\n",
       "      <td>[29, 52, 73, 87, 74, 47, 38, 61, 41]</td>\n",
       "      <td>9</td>\n",
       "      <td>29</td>\n",
       "      <td>87</td>\n",
       "      <td>6</td>\n",
       "    </tr>\n",
       "    <tr>\n",
       "      <th>6</th>\n",
       "      <td>case_example4</td>\n",
       "      <td>60</td>\n",
       "      <td>[32, 45, 17, 23, 38, 28, 16, 9, 12, 10, 29, 52...</td>\n",
       "      <td>19</td>\n",
       "      <td>9</td>\n",
       "      <td>87</td>\n",
       "      <td>13</td>\n",
       "    </tr>\n",
       "    <tr>\n",
       "      <th>7</th>\n",
       "      <td>u_60_0</td>\n",
       "      <td>150</td>\n",
       "      <td>[98, 93, 92, 90, 86, 85, 84, 84, 82, 82, 80, 7...</td>\n",
       "      <td>60</td>\n",
       "      <td>23</td>\n",
       "      <td>98</td>\n",
       "      <td>22</td>\n",
       "    </tr>\n",
       "    <tr>\n",
       "      <th>8</th>\n",
       "      <td>t_60_0</td>\n",
       "      <td>1000</td>\n",
       "      <td>[495, 474, 473, 472, 466, 450, 445, 444, 439, ...</td>\n",
       "      <td>60</td>\n",
       "      <td>251</td>\n",
       "      <td>495</td>\n",
       "      <td>20</td>\n",
       "    </tr>\n",
       "  </tbody>\n",
       "</table>\n",
       "</div>"
      ]
     },
     "metadata": {},
     "output_type": "display_data"
    }
   ],
   "execution_count": 4
  },
  {
   "cell_type": "markdown",
   "metadata": {},
   "source": [
    "# First Fit Decreasing Heuristic"
   ]
  },
  {
   "cell_type": "code",
   "metadata": {
    "ExecuteTime": {
     "end_time": "2024-12-17T19:06:29.272880Z",
     "start_time": "2024-12-17T19:06:29.264004Z"
    }
   },
   "source": [
    "def heur_FFD(c, w): # first-fit-decreasing heuristic\n",
    "    n = len(w)\n",
    "    order = sorted([i for i in range(n)], key=lambda i: w[i], reverse=True) # sort by decreasing weights\n",
    "    bin_for_item = [-1 for i in range(n)]\n",
    "    bin_space = []\n",
    "    for i in order:\n",
    "        for j in range(len(bin_space)): # pack in the first bin in which the item fits\n",
    "            if w[i] <= bin_space[j]:\n",
    "                bin_for_item[i] = j\n",
    "                bin_space[j] -= w[i]\n",
    "                break\n",
    "        if bin_for_item[i] < 0: # if no bin can accomodate the item, open a new bin\n",
    "            j = len(bin_space)\n",
    "            bin_for_item[i] = j\n",
    "            bin_space.append(c - w[i])\n",
    "    n_bins = len(bin_space)\n",
    "    return n_bins, bin_for_item"
   ],
   "outputs": [],
   "execution_count": 5
  },
  {
   "cell_type": "markdown",
   "metadata": {},
   "source": [
    "# Integer Programming Model\n",
    "- Using the standard (free) solver in PULP\n",
    "- Using other solvers (e.g. GUROBI, OR-TOOLS, ...)"
   ]
  },
  {
   "cell_type": "code",
   "metadata": {
    "ExecuteTime": {
     "end_time": "2024-12-17T19:06:29.365079Z",
     "start_time": "2024-12-17T19:06:29.353496Z"
    }
   },
   "source": [
    "def model_bpp(c, w, UB=None, bin_for_item=None, LogToConsole=True, TimeLimit=30, standardSolver=True):\n",
    "    n = len(w)\n",
    "    LB = lb(c, w)\n",
    "    if UB == None:\n",
    "        UB = n\n",
    "\n",
    "    binList = [i for i in range(UB)]\n",
    "    itemList = [i for i in range(n)]\n",
    "\n",
    "    # Create a LP Maximization problem\n",
    "    Lp_prob = p.LpProblem('bpp', p.LpMinimize) \n",
    "\n",
    "    # Create problem Variables \n",
    "    Y_vars = p.LpVariable.dicts(\"Y\",binList,lowBound=0,upBound=1,cat=\"Integer\")\n",
    "    X_vars = p.LpVariable.dicts(\"X\",(itemList,binList),lowBound=0,upBound=1,cat=\"Integer\")\n",
    "\n",
    "    # Objective Function\n",
    "    Lp_prob += p.lpSum(Y_vars[i] for i in binList)\n",
    "\n",
    "    # Constraints:\n",
    "    for i in itemList:\n",
    "        Lp_prob += p.lpSum([X_vars[i][j] for j in binList]) == 1, 'Bin('+str(i)+')'\n",
    "\n",
    "    for j in binList:\n",
    "        Lp_prob += p.lpSum([ w[i] * X_vars[i][j] for i in itemList]) <= c * Y_vars[j], 'Weigth('+str(j)+')'\n",
    "\n",
    "   # status = Lp_prob.solve() \n",
    "#    status = Lp_prob.solve(p.PULP_CBC_CMD(msg=False,maxSeconds=TimeLimit))   # Solver: Remove all the runtime info\n",
    "#    nrBins = int(p.value(Lp_prob.objective))\n",
    "#    status = p.LpStatus[status]\n",
    "    \n",
    "    import time\n",
    "    start = time.time()\n",
    "    \n",
    "    # Use the standard solver\n",
    "    if standardSolver:\n",
    "        status = Lp_prob.solve(p.PULP_CBC_CMD(msg=False,maxSeconds=TimeLimit))   # Solver: Remove all the runtime info\n",
    "    # Use the GLPK solver (make sure it is installed. When time limit is exceeded, often no solution is reported (disadvantage))\n",
    "    else:\n",
    "    #status = Lp_prob.solve(GLPK_CMD(path = '/opt⁩/anaconda3⁩/bin/⁩glpsol.exec'))   # Solver: Remove all the runtime info\n",
    "        path_to_glpk = r'/opt/anaconda3/bin/glpsol'\n",
    "        solver = p.GLPK_CMD(path=path_to_glpk,mip=True,msg=False,timeLimit=TimeLimit)\n",
    "        #status = Lp_prob.solve(solver)\n",
    "        status = solver.actualSolve(Lp_prob)\n",
    "\n",
    "    nrBins = int(p.value(Lp_prob.objective))\n",
    "    status = p.LpStatus[status]\n",
    "    end = time.time()\n",
    "\n",
    "    # If time limit is exceeded, the status is \"optimal\" which is of course not true (don't know why? Bug?)\n",
    "    if end - start - 0.1 > TimeLimit:\n",
    "        status = \"Time Limit Exceeded\"\n",
    "    \n",
    "    if LogToConsole:\n",
    "        print(Lp_prob)\n",
    "        print('The status of the solution:',p.LpStatus[status])   # The solution status  \n",
    "        print('The objective value =',p.value(Lp_prob.objective))\n",
    "    \n",
    "    OutputList = [[X_vars[i][j].varValue for j in binList] for i in itemList]\n",
    "    bin_for_item = [-1 for i in range(n)]\n",
    "    \n",
    "    for i in itemList:\n",
    "        for j in binList:\n",
    "            if OutputList[i][j] > 0:\n",
    "                bin_for_item[i] = j\n",
    "    return nrBins, bin_for_item, status"
   ],
   "outputs": [],
   "execution_count": 6
  },
  {
   "cell_type": "markdown",
   "metadata": {},
   "source": [
    "# Solve the two models (heuristic and IP model) separately"
   ]
  },
  {
   "cell_type": "code",
   "metadata": {
    "ExecuteTime": {
     "end_time": "2024-12-17T19:08:10.617904Z",
     "start_time": "2024-12-17T19:08:10.558806Z"
    }
   },
   "source": [
    "bpp_data = bpp_data_set[1]\n",
    "c, w = bpp_data['c'], bpp_data['w']\n",
    "n_bins, bin_for_item = heur_FFD(c, w)\n",
    "print(\"Heuristic found a solution with nr_bins =\", n_bins)\n",
    "#print(\"Each item is placed in a bin:\", bin_for_item)\n",
    "\n",
    "n_bins, bin_for_item, status = model_bpp(c, w, LogToConsole=False, TimeLimit=30)\n",
    "print(\"IP model found a solution with nr_bins =\", n_bins)\n",
    "#print(\"Each item is placed in a bin:\", bin_for_item)"
   ],
   "outputs": [
    {
     "name": "stdout",
     "output_type": "stream",
     "text": [
      "Heuristic found a solution with nr_bins = 11\n"
     ]
    },
    {
     "ename": "TypeError",
     "evalue": "PULP_CBC_CMD.__init__() got an unexpected keyword argument 'maxSeconds'",
     "output_type": "error",
     "traceback": [
      "\u001B[1;31m---------------------------------------------------------------------------\u001B[0m",
      "\u001B[1;31mTypeError\u001B[0m                                 Traceback (most recent call last)",
      "Cell \u001B[1;32mIn[10], line 7\u001B[0m\n\u001B[0;32m      4\u001B[0m \u001B[38;5;28mprint\u001B[39m(\u001B[38;5;124m\"\u001B[39m\u001B[38;5;124mHeuristic found a solution with nr_bins =\u001B[39m\u001B[38;5;124m\"\u001B[39m, n_bins)\n\u001B[0;32m      5\u001B[0m \u001B[38;5;66;03m#print(\"Each item is placed in a bin:\", bin_for_item)\u001B[39;00m\n\u001B[1;32m----> 7\u001B[0m n_bins, bin_for_item, status \u001B[38;5;241m=\u001B[39m model_bpp(c, w, LogToConsole\u001B[38;5;241m=\u001B[39m\u001B[38;5;28;01mFalse\u001B[39;00m)\n\u001B[0;32m      8\u001B[0m \u001B[38;5;28mprint\u001B[39m(\u001B[38;5;124m\"\u001B[39m\u001B[38;5;124mIP model found a solution with nr_bins =\u001B[39m\u001B[38;5;124m\"\u001B[39m, n_bins)\n",
      "Cell \u001B[1;32mIn[6], line 37\u001B[0m, in \u001B[0;36mmodel_bpp\u001B[1;34m(c, w, UB, bin_for_item, LogToConsole, TimeLimit, standardSolver)\u001B[0m\n\u001B[0;32m     35\u001B[0m \u001B[38;5;66;03m# Use the standard solver\u001B[39;00m\n\u001B[0;32m     36\u001B[0m \u001B[38;5;28;01mif\u001B[39;00m standardSolver:\n\u001B[1;32m---> 37\u001B[0m     status \u001B[38;5;241m=\u001B[39m Lp_prob\u001B[38;5;241m.\u001B[39msolve(p\u001B[38;5;241m.\u001B[39mPULP_CBC_CMD(msg\u001B[38;5;241m=\u001B[39m\u001B[38;5;28;01mFalse\u001B[39;00m,maxSeconds\u001B[38;5;241m=\u001B[39mTimeLimit))   \u001B[38;5;66;03m# Solver: Remove all the runtime info\u001B[39;00m\n\u001B[0;32m     38\u001B[0m \u001B[38;5;66;03m# Use the GLPK solver (make sure it is installed. When time limit is exceeded, often no solution is reported (disadvantage))\u001B[39;00m\n\u001B[0;32m     39\u001B[0m \u001B[38;5;28;01melse\u001B[39;00m:\n\u001B[0;32m     40\u001B[0m \u001B[38;5;66;03m#status = Lp_prob.solve(GLPK_CMD(path = '/opt⁩/anaconda3⁩/bin/⁩glpsol.exec'))   # Solver: Remove all the runtime info\u001B[39;00m\n\u001B[0;32m     41\u001B[0m     path_to_glpk \u001B[38;5;241m=\u001B[39m \u001B[38;5;124mr\u001B[39m\u001B[38;5;124m'\u001B[39m\u001B[38;5;124m/opt/anaconda3/bin/glpsol\u001B[39m\u001B[38;5;124m'\u001B[39m\n",
      "\u001B[1;31mTypeError\u001B[0m: PULP_CBC_CMD.__init__() got an unexpected keyword argument 'maxSeconds'"
     ]
    }
   ],
   "execution_count": 10
  },
  {
   "cell_type": "code",
   "metadata": {
    "ExecuteTime": {
     "end_time": "2024-12-17T19:08:28.403151Z",
     "start_time": "2024-12-17T19:08:28.397072Z"
    }
   },
   "source": [
    "for idx, bpp_data in enumerate(bpp_data_set):\n",
    "    c, w = bpp_data['c'], bpp_data['w']\n",
    "    n_bins, bin_for_item = heur_FFD(c, w)\n",
    "    print(idx, n_bins)"
   ],
   "outputs": [
    {
     "name": "stdout",
     "output_type": "stream",
     "text": [
      "0 4\n",
      "1 11\n",
      "2 4\n",
      "3 3\n",
      "4 8\n",
      "5 6\n",
      "6 12\n",
      "7 23\n",
      "8 23\n"
     ]
    }
   ],
   "execution_count": 11
  },
  {
   "cell_type": "code",
   "metadata": {
    "ExecuteTime": {
     "end_time": "2024-12-17T19:08:30.547542Z",
     "start_time": "2024-12-17T19:08:30.502123Z"
    }
   },
   "source": [
    "# The PULP solver is slow, but often better than the heuristic solution (even though not optimal for low CPU time limits)\n",
    "# This code uses the standard solver, when time limit exceeded > often a feasible solution found\n",
    "for idx, bpp_data in enumerate(bpp_data_set):\n",
    "    c, w = bpp_data['c'], bpp_data['w']\n",
    "    n_bins, bin_for_item, status = model_bpp(c, w, LogToConsole=False, TimeLimit=60) \n",
    "    print(idx, n_bins, status)"
   ],
   "outputs": [
    {
     "ename": "TypeError",
     "evalue": "PULP_CBC_CMD.__init__() got an unexpected keyword argument 'maxSeconds'",
     "output_type": "error",
     "traceback": [
      "\u001B[1;31m---------------------------------------------------------------------------\u001B[0m",
      "\u001B[1;31mTypeError\u001B[0m                                 Traceback (most recent call last)",
      "Cell \u001B[1;32mIn[12], line 5\u001B[0m\n\u001B[0;32m      3\u001B[0m \u001B[38;5;28;01mfor\u001B[39;00m idx, bpp_data \u001B[38;5;129;01min\u001B[39;00m \u001B[38;5;28menumerate\u001B[39m(bpp_data_set):\n\u001B[0;32m      4\u001B[0m     c, w \u001B[38;5;241m=\u001B[39m bpp_data[\u001B[38;5;124m'\u001B[39m\u001B[38;5;124mc\u001B[39m\u001B[38;5;124m'\u001B[39m], bpp_data[\u001B[38;5;124m'\u001B[39m\u001B[38;5;124mw\u001B[39m\u001B[38;5;124m'\u001B[39m]\n\u001B[1;32m----> 5\u001B[0m     n_bins, bin_for_item, status \u001B[38;5;241m=\u001B[39m model_bpp(c, w, LogToConsole\u001B[38;5;241m=\u001B[39m\u001B[38;5;28;01mFalse\u001B[39;00m, TimeLimit\u001B[38;5;241m=\u001B[39m\u001B[38;5;241m60\u001B[39m) \n\u001B[0;32m      6\u001B[0m     \u001B[38;5;28mprint\u001B[39m(idx, n_bins, status)\n",
      "Cell \u001B[1;32mIn[6], line 37\u001B[0m, in \u001B[0;36mmodel_bpp\u001B[1;34m(c, w, UB, bin_for_item, LogToConsole, TimeLimit, standardSolver)\u001B[0m\n\u001B[0;32m     35\u001B[0m \u001B[38;5;66;03m# Use the standard solver\u001B[39;00m\n\u001B[0;32m     36\u001B[0m \u001B[38;5;28;01mif\u001B[39;00m standardSolver:\n\u001B[1;32m---> 37\u001B[0m     status \u001B[38;5;241m=\u001B[39m Lp_prob\u001B[38;5;241m.\u001B[39msolve(p\u001B[38;5;241m.\u001B[39mPULP_CBC_CMD(msg\u001B[38;5;241m=\u001B[39m\u001B[38;5;28;01mFalse\u001B[39;00m,maxSeconds\u001B[38;5;241m=\u001B[39mTimeLimit))   \u001B[38;5;66;03m# Solver: Remove all the runtime info\u001B[39;00m\n\u001B[0;32m     38\u001B[0m \u001B[38;5;66;03m# Use the GLPK solver (make sure it is installed. When time limit is exceeded, often no solution is reported (disadvantage))\u001B[39;00m\n\u001B[0;32m     39\u001B[0m \u001B[38;5;28;01melse\u001B[39;00m:\n\u001B[0;32m     40\u001B[0m \u001B[38;5;66;03m#status = Lp_prob.solve(GLPK_CMD(path = '/opt⁩/anaconda3⁩/bin/⁩glpsol.exec'))   # Solver: Remove all the runtime info\u001B[39;00m\n\u001B[0;32m     41\u001B[0m     path_to_glpk \u001B[38;5;241m=\u001B[39m \u001B[38;5;124mr\u001B[39m\u001B[38;5;124m'\u001B[39m\u001B[38;5;124m/opt/anaconda3/bin/glpsol\u001B[39m\u001B[38;5;124m'\u001B[39m\n",
      "\u001B[1;31mTypeError\u001B[0m: PULP_CBC_CMD.__init__() got an unexpected keyword argument 'maxSeconds'"
     ]
    }
   ],
   "execution_count": 12
  },
  {
   "cell_type": "code",
   "execution_count": 7,
   "metadata": {},
   "outputs": [
    {
     "name": "stdout",
     "output_type": "stream",
     "text": [
      "0 4 Optimal\n",
      "1 11 Optimal\n",
      "2 4 Optimal\n",
      "3 3 Optimal\n",
      "4 8 Optimal\n",
      "5 6 Optimal\n",
      "6 12 Infeasible\n",
      "7 23 Time Limit Exceeded\n",
      "8 21 Time Limit Exceeded\n"
     ]
    }
   ],
   "source": [
    "# The PULP solver is slow, but often better than the heuristic solution (even though not optimal for low CPU time limits)\n",
    "# If you put the \"standardSolver\" to FALSE, this code will use the GLPK solver \n",
    "#    Only works when GLPK is installed (check my installation guide how!) \n",
    "#    Disadvantage: When time limit exceeded > often no feasible solution could be found\n",
    "for idx, bpp_data in enumerate(bpp_data_set):\n",
    "    c, w = bpp_data['c'], bpp_data['w']\n",
    "    n_bins, bin_for_item, status = model_bpp(c, w, LogToConsole=False, TimeLimit=60, standardSolver=True) \n",
    "    print(idx, n_bins, status)"
   ]
  },
  {
   "cell_type": "markdown",
   "metadata": {},
   "source": [
    "# Solve the problems as an integrated model\n",
    "- Heuristic = company solution\n",
    "- IP Model = Complex model with heuristic as input"
   ]
  },
  {
   "cell_type": "code",
   "execution_count": 8,
   "metadata": {},
   "outputs": [
    {
     "name": "stdout",
     "output_type": "stream",
     "text": [
      "0 \t 4 \t 4 \t 0.01716303825378418\n",
      "1 \t 11 \t 11 \t 0.2673652172088623\n",
      "2 \t 4 \t 4 \t 0.019037961959838867\n",
      "3 \t 3 \t 3 \t 0.013235807418823242\n",
      "4 \t 8 \t 8 \t 0.1358778476715088\n",
      "5 \t 6 \t 6 \t 0.02103281021118164\n",
      "6 \t 12 \t 12 \t 0.01668691635131836\n",
      "7 \t 23 \t 23 \t 60.05420470237732\n",
      "8 \t 23 \t 22 \t 60.23473381996155\n"
     ]
    }
   ],
   "source": [
    "# First use the heuristic solution as an upper bound, then the IP model works much better \n",
    "from time import time\n",
    "\n",
    "for idx, bpp_data in enumerate(bpp_data_set):\n",
    "    t_start = time()\n",
    "    c, w = bpp_data['c'], bpp_data['w']\n",
    "    n_binsH, bin_for_itemH = heur_FFD(c, w)\n",
    "    n_binsM, bin_for_itemM, status = model_bpp(c, w, n_binsH, bin_for_item, LogToConsole=False, TimeLimit=60)\n",
    "    t_end = time()\n",
    "    print(idx,\"\\t\",n_binsH,\"\\t\",n_binsM,\"\\t\",t_end - t_start)"
   ]
  },
  {
   "cell_type": "markdown",
   "metadata": {},
   "source": [
    "# Other (faster) solvers\n",
    "The standard solver in PULP is very slow (but easy to use), but any other solver can be used. The increases in speed are impressive, but it comes with a price:\n",
    "- The installation is sometimes painful (at least to me)\n",
    "- They are not always free (some have free academic licences, like GUROBI, CPLEX) <br>\n",
    "\n",
    "You don't need them for this Decision Making course, but you might need them later in your life to solve real (big) problems! <br>\n",
    "https://coin-or.github.io/pulp/guides/how_to_configure_solvers.html"
   ]
  },
  {
   "cell_type": "code",
   "execution_count": 9,
   "metadata": {},
   "outputs": [
    {
     "data": {
      "text/plain": [
       "['GLPK_CMD',\n",
       " 'PYGLPK',\n",
       " 'CPLEX_CMD',\n",
       " 'CPLEX_PY',\n",
       " 'GUROBI',\n",
       " 'GUROBI_CMD',\n",
       " 'MOSEK',\n",
       " 'XPRESS',\n",
       " 'PULP_CBC_CMD',\n",
       " 'COIN_CMD',\n",
       " 'COINMP_DLL',\n",
       " 'CHOCO_CMD',\n",
       " 'MIPCL_CMD',\n",
       " 'SCIP_CMD']"
      ]
     },
     "execution_count": 9,
     "metadata": {},
     "output_type": "execute_result"
    }
   ],
   "source": [
    "# Check the available list of solvers for pulp\n",
    "import pulp as p\n",
    "solver_list = p.listSolvers()\n",
    "solver_list"
   ]
  },
  {
   "cell_type": "code",
   "execution_count": 10,
   "metadata": {},
   "outputs": [
    {
     "data": {
      "text/plain": [
       "['PULP_CBC_CMD']"
      ]
     },
     "execution_count": 10,
     "metadata": {},
     "output_type": "execute_result"
    }
   ],
   "source": [
    "# Check the list of solvers for pulp installed on your computer\n",
    "solver_list = p.listSolvers(onlyAvailable=True)\n",
    "solver_list"
   ]
  },
  {
   "cell_type": "code",
   "execution_count": 11,
   "metadata": {},
   "outputs": [
    {
     "name": "stderr",
     "output_type": "stream",
     "text": [
      "ssssssssssssssssssssssssssssssssssssssssssssssssssssssssssssssssssssssssssssssssssssssssssssssssssssssssssssssssssssssssssssssssssssssssssssssssssssssssssssssssssssssssssssssssssssssssssssssssssssssssssssssssssssssssssssssssssssssssssssssssssssssssssssssssssssssssssssssssssssssssssssssssssssssssssssssssssssssssssssssssssssssssssssssssssssssssssssssssssssssssssssssssssssssssssssssssssssssssssssssssssssssssssssssssssssssssssssssssssssssssssssssssssssssssssssssssssssssssssssssssssssssssssssssssssssssssssssssssssssssssssssssssssssssssssssssssssssssssssssssss...................."
     ]
    },
    {
     "name": "stdout",
     "output_type": "stream",
     "text": [
      "\t Test that logic put in place for deprecation handling of indexs works\n",
      "\t Testing 'indexs' param continues to work for LpVariable.dicts\n",
      "\t Testing 'indexs' param continues to work for LpVariable.matrix\n",
      "\t Testing 'indices' argument works in LpVariable.dicts\n",
      "\t Testing 'indices' param continues to work for LpVariable.matrix\n",
      "\t Testing invalid status\n",
      "\t Testing continuous LP solution - export dict\n",
      "\t Testing export dict for LP\n",
      "\t Testing export dict MIP\n",
      "\t Testing maximize continuous LP solution\n",
      "\t Testing continuous LP solution - export JSON\n",
      "\t Testing continuous LP solution - export solver dict\n",
      "\t Testing continuous LP solution - export solver JSON\n",
      "\t Testing reading MPS files - binary variable, no constraint names\n",
      "\t Testing reading MPS files - integer variable\n",
      "\t Testing reading MPS files - maximize\n",
      "\t Testing invalid var names\n",
      "\t Testing logPath argument\n",
      "\t Testing makeDict general behavior\n",
      "\t Testing makeDict default value behavior\n",
      "\t Testing measuring optimization time\n"
     ]
    },
    {
     "name": "stderr",
     "output_type": "stream",
     "text": [
      "................."
     ]
    },
    {
     "name": "stdout",
     "output_type": "stream",
     "text": [
      "\t Testing the availability of the function pulpTestAll\n",
      "\t Testing zero subtraction\n",
      "\t Testing inconsistent lp solution\n",
      "\t Testing continuous LP solution\n",
      "\t Testing maximize continuous LP solution\n",
      "\t Testing unbounded continuous LP solution\n",
      "\t Testing Long Names\n",
      "\t Testing repeated Names\n",
      "\t Testing zero constraint\n",
      "\t Testing zero objective\n",
      "\t Testing LpVariable (not LpAffineExpression) objective\n",
      "\t Testing Long lines in LP\n",
      "\t Testing LpAffineExpression divide\n",
      "\t Testing MIP solution\n",
      "\t Testing MIP solution with floats in objective\n",
      "\t Testing Initial value in MIP solution\n"
     ]
    },
    {
     "name": "stderr",
     "output_type": "stream",
     "text": [
      "................"
     ]
    },
    {
     "name": "stdout",
     "output_type": "stream",
     "text": [
      "\t Testing fixing value in MIP solution\n",
      "\t Testing MIP relaxation\n",
      "\t Testing feasibility problem (no objective)\n",
      "\t Testing an infeasible problem\n",
      "\t Testing an integer infeasible problem\n",
      "\t Testing another integer infeasible problem\n",
      "\t Testing column based modelling\n",
      "\t Testing dual variables and slacks reporting\n",
      "\t Testing fractional constraints\n",
      "\t Testing elastic constraints (no change)\n",
      "\t Testing elastic constraints (freebound)\n",
      "\t Testing elastic constraints (penalty unchanged)\n",
      "\t Testing elastic constraints (penalty unbounded)\n",
      "\t Testing timeLimit argument\n"
     ]
    },
    {
     "name": "stderr",
     "output_type": "stream",
     "text": [
      "...ssssssssssssssssssssssssssssssssssssssssssssssssssssssssssssssssssssssssssssssssssssssssssssssssssssssssssssssssssssssssssssssssssssssssssssssssssssssssssssssssssssssssssssssssssssssssssssssssssssssssssssssssssssssssssssssss\n",
      "----------------------------------------------------------------------\n",
      "Ran 840 tests in 12.138s\n",
      "\n",
      "OK (skipped=784)\n"
     ]
    }
   ],
   "source": [
    "p.pulpTestAll()\n"
   ]
  },
  {
   "cell_type": "code",
   "execution_count": 12,
   "metadata": {},
   "outputs": [],
   "source": [
    "#solver = p.getSolver('GLPK_CMD')"
   ]
  },
  {
   "cell_type": "code",
   "execution_count": null,
   "metadata": {},
   "outputs": [],
   "source": []
  }
 ],
 "metadata": {
  "kernelspec": {
   "display_name": "Python 3 (ipykernel)",
   "language": "python",
   "name": "python3"
  },
  "language_info": {
   "codemirror_mode": {
    "name": "ipython",
    "version": 3
   },
   "file_extension": ".py",
   "mimetype": "text/x-python",
   "name": "python",
   "nbconvert_exporter": "python",
   "pygments_lexer": "ipython3",
   "version": "3.9.7"
  }
 },
 "nbformat": 4,
 "nbformat_minor": 4
}

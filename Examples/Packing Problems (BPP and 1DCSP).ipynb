{
 "cells": [
  {
   "cell_type": "markdown",
   "id": "d5c940ec",
   "metadata": {},
   "source": [
    "# Packing problems\n",
    "Solution guide to the case study \"ProRobotics: Robotic process automation of repetitive tasks\"\n",
    "This Jupyter notebook contains the following models\n",
    "- Model for the bin packing problem\n",
    "- Model for the 1D cutting stock problem\n",
    "- Model for the robotic process automation: Model is given, but solution is available in separate Jupyter notebook\n",
    "- The 2D cutting stock problem: Exercise and solution available in MS Excel from website\n"
   ]
  },
  {
   "cell_type": "code",
   "execution_count": 1,
   "id": "d67ba7ec",
   "metadata": {},
   "outputs": [],
   "source": [
    "import pandas as pd\n",
    "import numpy as np\n",
    "import math\n",
    "import pulp as p"
   ]
  },
  {
   "cell_type": "markdown",
   "id": "6c2578ad",
   "metadata": {},
   "source": [
    "# The bin packing problem\n",
    "PARAMETERS<br>\n",
    "- $n$ : Number of items (index $i$)<br>\n",
    "- $w_i$ : Weight of each item<br>\n",
    "- $c$: Capacity of each bin (the index $j$ is used for bins, but since each bin has the same capacity, $c$ is used and not $c_j$)<br>\n",
    "- $ub$: Upper bound on the number of bins (found by the first-fit decreasing heuristic)<br>\n",
    "\n",
    "DECISION VARIABLES<br>\n",
    "- $x_{i,j}$: 1, if item $i$ is packed in bin $j$, 0 otherwise <br>\n",
    "- $y_j$: 1, if bin $j$ is used in the<br>\n",
    "\n",
    "MODEL <br>\n",
    "\\begin{align*}\n",
    "\\mathrm{Minimise} \\sum_{j=1}^{ub}y_j &&\n",
    "\\end{align*}\n",
    "\\begin{align}\n",
    "\\mathrm{s.t.}\n",
    "& \\sum_{j=1}^{ub} x_{i,j} = 1 \t\t\t\t&& i = 1, \\ldots, n & \\label{BPP_1bin}\\\\\n",
    "& \\sum_{1=1}^{n} w_i \\times x_{i,j} = c \\times y_j \t\t&& j = 1, \\ldots, ub\\label{BPP_capacity}\\\\\n",
    "& x_{i,j} \\in \\{0,1\\}\t\t\t\t\t\t\t\t&& i = 1, \\ldots, n; j = 1, \\ldots, ub\\label{BPP_binaryX}\\\\\n",
    "& y_j \\in \\{0,1\\}\t\t\t\t\t\t\t\t\t&& j = 1, \\ldots, ub\\label{BPP_binaryY}\n",
    "\\end{align}"
   ]
  },
  {
   "cell_type": "code",
   "execution_count": 2,
   "id": "27a7d18b",
   "metadata": {},
   "outputs": [],
   "source": [
    "# Example data\n",
    "#number_items = 9 \n",
    "#w = [5, 3, 3, 3, 2, 2, 2, 2, 2]\n",
    "number_items = 8\n",
    "w = [5, 4, 3, 3, 3, 2, 2, 2] # first fit says 4, optimum says 3\n",
    "capacity = c = 8"
   ]
  },
  {
   "cell_type": "code",
   "execution_count": 3,
   "id": "919a9668",
   "metadata": {},
   "outputs": [],
   "source": [
    "# This is the code for the first-fit-decreasing heuristic of the bin packing problem\n",
    "def heur_FFD(c, w): \n",
    "    n = len(w)\n",
    "    order = sorted([i for i in range(n)], key=lambda i: w[i], reverse=True) # sort by decreasing weights\n",
    "    bin_for_item = [-1 for i in range(n)]\n",
    "    bin_space = []\n",
    "    for i in order:\n",
    "        for j in range(len(bin_space)): # pack in the first bin in which the item fits\n",
    "            if w[i] <= bin_space[j]:\n",
    "                bin_for_item[i] = j\n",
    "                bin_space[j] -= w[i]\n",
    "                break\n",
    "        if bin_for_item[i] < 0: # if no bin can accomodate the item, open a new bin\n",
    "            j = len(bin_space)\n",
    "            bin_for_item[i] = j\n",
    "            bin_space.append(c - w[i])\n",
    "    n_bins = len(bin_space)\n",
    "    return n_bins, bin_for_item"
   ]
  },
  {
   "cell_type": "code",
   "execution_count": 4,
   "id": "1b872d64",
   "metadata": {},
   "outputs": [
    {
     "name": "stdout",
     "output_type": "stream",
     "text": [
      "UB on the number of bins used =  4\n"
     ]
    }
   ],
   "source": [
    "# Find a heuristic solution on the number of bins (upper bound ub) (is called again in the MODEL_BPP)\n",
    "UB, bin_for_item = heur_FFD(c, w)\n",
    "print(\"UB on the number of bins used = \",UB)\n",
    "binList = [i for i in range(UB)]"
   ]
  },
  {
   "cell_type": "code",
   "execution_count": 5,
   "id": "552c6dfd",
   "metadata": {},
   "outputs": [],
   "source": [
    "def MODEL_BPP(TimeLimit,showModel,):\n",
    "    \n",
    "    # Find a heuristic solution on the number of bins (upper bound ub)\n",
    "    UB, bin_for_item = heur_FFD(c, w)\n",
    "    \n",
    "    number = len(w)\n",
    "    itemList = [i for i in range(number)]\n",
    "    binList = [i for i in range(UB)]\n",
    "    \n",
    "    # Create a LP Maximization problem\n",
    "    Lp_prob = p.LpProblem('csp', p.LpMinimize) \n",
    "\n",
    "    # Create problem Variables \n",
    "    X_vars = p.LpVariable.dicts(\"X\",(itemList,binList),lowBound=0,upBound=1,cat=\"Integer\")\n",
    "    Y_vars = p.LpVariable.dicts(\"Y\",binList,lowBound=0,upBound=1,cat=\"Integer\")\n",
    "\n",
    "    # Objective Function\n",
    "    Lp_prob += p.lpSum(Y_vars[j] for j in binList)\n",
    "\n",
    "    # Constraints\n",
    "    for i in itemList:\n",
    "        Lp_prob += p.lpSum([X_vars[i][j] for j in binList]) == 1, 'Bin('+str(i)+')'\n",
    "\n",
    "    for j in binList:\n",
    "        Lp_prob += p.lpSum([w[i] * X_vars[i][j] for i in itemList]) <= c * Y_vars[j], 'Capacity('+str(j)+')'\n",
    "\n",
    "    # Solve the problem\n",
    "    status = Lp_prob.solve(p.PULP_CBC_CMD(msg=False,maxSeconds=TimeLimit))\n",
    "\n",
    "    # Show the model\n",
    "    if showModel: \n",
    "        print(Lp_prob)\n",
    "\n",
    "    # Show the solution\n",
    "    print('The status of the solution:',p.LpStatus[status])\n",
    "    print('The objective value =',p.value(Lp_prob.objective))\n",
    "    \n",
    "    # Print the solution\n",
    "    OutputXList = [[X_vars[i][j].varValue for j in binList] for i in itemList]\n",
    "    print(\"X =\",OutputXList)\n",
    "\n",
    "    OutputYList = [Y_vars[j].varValue for j in binList]\n",
    "    print(\"Y =\",OutputYList)\n",
    "\n",
    "    # Print the solution in words\n",
    "    for i in itemList:\n",
    "        for j in binList:\n",
    "            if OutputXList[i][j] > 0:\n",
    "                print(\"Item\", i, \"is packed in bin \", j)"
   ]
  },
  {
   "cell_type": "code",
   "execution_count": 6,
   "id": "d9990006",
   "metadata": {},
   "outputs": [
    {
     "name": "stdout",
     "output_type": "stream",
     "text": [
      "The status of the solution: Optimal\n",
      "The objective value = 3.0\n",
      "X = [[0.0, 1.0, 0.0, 0.0], [1.0, 0.0, 0.0, 0.0], [0.0, 0.0, 1.0, 0.0], [0.0, 0.0, 1.0, 0.0], [0.0, 1.0, 0.0, 0.0], [0.0, 0.0, 1.0, 0.0], [1.0, 0.0, 0.0, 0.0], [1.0, 0.0, 0.0, 0.0]]\n",
      "Y = [1.0, 1.0, 1.0, 0.0]\n",
      "Item 0 is packed in bin  1\n",
      "Item 1 is packed in bin  0\n",
      "Item 2 is packed in bin  2\n",
      "Item 3 is packed in bin  2\n",
      "Item 4 is packed in bin  1\n",
      "Item 5 is packed in bin  2\n",
      "Item 6 is packed in bin  0\n",
      "Item 7 is packed in bin  0\n"
     ]
    },
    {
     "name": "stderr",
     "output_type": "stream",
     "text": [
      "/opt/anaconda3/lib/python3.9/site-packages/pulp/apis/coin_api.py:95: UserWarning: Parameter maxSeconds is being depreciated for timeLimit\n",
      "  warnings.warn(\"Parameter maxSeconds is being depreciated for timeLimit\")\n"
     ]
    }
   ],
   "source": [
    "MODEL_BPP(60,False)"
   ]
  },
  {
   "cell_type": "markdown",
   "id": "5f13fa31",
   "metadata": {},
   "source": [
    "# The 1D cutting stock problem"
   ]
  },
  {
   "cell_type": "markdown",
   "id": "55f2bc66",
   "metadata": {},
   "source": [
    "The 1D cutting stock problem is identical to the bin packing problem (and therefore, we'll use the code of the first-fit-decreasing heuristic to get an upper bound on the number of stocks)\n",
    "\n",
    "PARAMETERS<br>\n",
    "- $L$: Stock lengths <br>\n",
    "- $n$: Number of item types (index $i$) <br>\n",
    "- $l_i$: Order lengths of item $i$ <br>\n",
    "- $d_i$ demand number of item $i$ <br>\n",
    "\n",
    "DECISION VARIABLES<br>\n",
    "- $x_{i,j}$: Number of items of type $i$ cut from stock $j$ <br>\n",
    "- $ t_j$: Length of each leftover of stock $j$ (i.e. not used for cutting items)<br>\n",
    "- $y_j$: 1, if stock $j$ is used for cutting items, 0, otherwise<br>\n",
    "\n",
    "MODEL<br>\n",
    "\\begin{align*}\n",
    "\\mathrm{Minimise} \\sum_{j=1}^{ub}t_j &&\n",
    "\\end{align*}\n",
    "\\begin{align}\n",
    "\\mathrm{s.t.}\n",
    "& \\sum_{j=1}^{ub} x_{i,j} = d_i \t\t\t\t\t\t&& i = 1, \\ldots, n & \\label{1DCSP_Demand}\\\\\n",
    "& \\sum_{1=1}^{n} l_i \\times x_{i,j} + t_j = L \\times y_j \t\t&& j = 1, \\ldots, ub \\label{1DCSP_Waste}\\\\\n",
    "& x_{i,j} \\in \\mathbb{Z}^{0+}\t\t\t\t\t\t\t\t\t\t\t\t&& i = 1, \\ldots, n, j = 1, \\ldots, ub \\label{1DCSP_X}\\\\\n",
    "& t_{j} \\in \\mathbb{Z}^{0+}\t\t\t\t\t\t\t\t\t\t\t&& j = 1, \\ldots, ub \\label{1DCSP_T} \\\\\n",
    "& y_j \\in \\{0,1\\}\t\t\t\t\t\t\t\t\t\t\t\t&& j = 1, \\ldots, ub \\label{1DCSP_Y}\n",
    "\\end{align}"
   ]
  },
  {
   "cell_type": "code",
   "execution_count": 7,
   "id": "8c065ba9",
   "metadata": {},
   "outputs": [],
   "source": [
    "# Example data instance with no waste (change the length of the last item into 1 (instead of 2) and you'll have waste)\n",
    "number = 3 #number of items\n",
    "length = [5, 3, 2] \n",
    "demand = [1, 3, 5]\n",
    "stockLength = L = 8\n",
    "\n",
    "number = 4 #number of items\n",
    "length = [5, 4, 3, 2] \n",
    "demand = [1, 1, 3, 3]\n",
    "stockLength = L = 8\n",
    "\n",
    "itemList = [i for i in range(number)]"
   ]
  },
  {
   "cell_type": "code",
   "execution_count": 8,
   "id": "9ca21bfb",
   "metadata": {},
   "outputs": [
    {
     "name": "stdout",
     "output_type": "stream",
     "text": [
      "Weight of split items [5, 4, 3, 3, 3, 2, 2, 2]\n",
      "Capacity of each stock (like a bin) =  8\n",
      "UB on the number of stocks used =  4\n"
     ]
    }
   ],
   "source": [
    "# Find a heuristic solution (upper bound) on the number of stocks used (using the heuristic for the BPP)\n",
    "\n",
    "# The first-fit-decreasing heuristic for the bin packing problem can also be used for the 1D cutting stock problem as follows:\n",
    "# split_items - the number of items n is equal to number of items x demand d\n",
    "# w_list - each item has a weigth w equal to its length l\n",
    "# capacity - each stock has a capacity c equal to L\n",
    "\n",
    "split_items = sum(demand)\n",
    "#print(split_items)\n",
    "\n",
    "w=[]\n",
    "for item in range(number):\n",
    "    given_value =length[item]\n",
    "    w.extend([given_value for i in range(demand[item])])\n",
    "print(\"Weight of split items\",w)\n",
    "\n",
    "capacity = c = L\n",
    "print(\"Capacity of each stock (like a bin) = \",c)\n",
    "\n",
    "UB, bin_for_item = heur_FFD(c, w)\n",
    "print(\"UB on the number of stocks used = \",UB)\n",
    "stockList = [i for i in range(UB)]"
   ]
  },
  {
   "cell_type": "code",
   "execution_count": 9,
   "id": "7866df7d",
   "metadata": {},
   "outputs": [],
   "source": [
    "def MODEL_1DCSP(TimeLimit,showModel):\n",
    "    # Create a LP Maximization problem\n",
    "    Lp_prob = p.LpProblem('csp', p.LpMinimize) \n",
    "\n",
    "    # Create problem Variables \n",
    "    X_vars = p.LpVariable.dicts(\"X\",(itemList,stockList),lowBound=0,cat=\"Integer\")\n",
    "    T_vars = p.LpVariable.dicts(\"T\",stockList,lowBound=0,cat=\"Integer\")\n",
    "    Y_vars = p.LpVariable.dicts(\"Y\",stockList,lowBound=0,upBound=1,cat=\"Integer\")\n",
    "\n",
    "    # Objective Function\n",
    "    Lp_prob += p.lpSum(T_vars[j] for j in stockList)\n",
    "\n",
    "    # Constraints\n",
    "    for i in itemList:\n",
    "        Lp_prob += p.lpSum([X_vars[i][j] for j in stockList]) == demand[i], 'Demand('+str(i)+')'\n",
    "\n",
    "    for j in stockList:\n",
    "        Lp_prob += p.lpSum([length[i] * X_vars[i][j] for i in itemList] + T_vars[j]) == L * Y_vars[j], 'Waste('+str(j)+')'\n",
    "\n",
    "    # Solve the problem\n",
    "    status = Lp_prob.solve(p.PULP_CBC_CMD(msg=False,maxSeconds=TimeLimit))\n",
    "\n",
    "    # Show the model\n",
    "    if showModel:\n",
    "        print(Lp_prob)\n",
    "\n",
    "    # Show the solution\n",
    "    print('The status of the solution:',p.LpStatus[status])\n",
    "    print('The objective value =',p.value(Lp_prob.objective))\n",
    "    \n",
    "    # Print the solution\n",
    "    OutputXList = [[X_vars[i][j].varValue for j in stockList] for i in itemList]\n",
    "    print(\"X =\",OutputXList)\n",
    "\n",
    "    OutputTList = [T_vars[j].varValue for j in stockList]\n",
    "    print(\"T =\",OutputTList)\n",
    "\n",
    "    OutputYList = [Y_vars[j].varValue for j in stockList]\n",
    "    print(\"Y =\",OutputYList)\n",
    "\n",
    "    # Print the solution in words\n",
    "    for i in itemList:\n",
    "        for j in stockList:\n",
    "            if OutputXList[i][j] > 0:\n",
    "                print(\"Item\", i, \"is cut \", OutputXList[i][j], \" time(s) from stock\", j)"
   ]
  },
  {
   "cell_type": "code",
   "execution_count": 10,
   "id": "2830ae25",
   "metadata": {},
   "outputs": [
    {
     "name": "stdout",
     "output_type": "stream",
     "text": [
      "The status of the solution: Optimal\n",
      "The objective value = 0.0\n",
      "X = [[0.0, 0.0, 1.0, 0.0], [1.0, 0.0, 0.0, 0.0], [0.0, 0.0, 1.0, 2.0], [2.0, 0.0, 0.0, 1.0]]\n",
      "T = [0.0, 0.0, 0.0, 0.0]\n",
      "Y = [1.0, 0.0, 1.0, 1.0]\n",
      "Item 0 is cut  1.0  time(s) from stock 2\n",
      "Item 1 is cut  1.0  time(s) from stock 0\n",
      "Item 2 is cut  1.0  time(s) from stock 2\n",
      "Item 2 is cut  2.0  time(s) from stock 3\n",
      "Item 3 is cut  2.0  time(s) from stock 0\n",
      "Item 3 is cut  1.0  time(s) from stock 3\n"
     ]
    }
   ],
   "source": [
    "MODEL_1DCSP(60,False)"
   ]
  },
  {
   "cell_type": "markdown",
   "id": "502f3dc9",
   "metadata": {},
   "source": [
    "# 1D-CSP = BPP"
   ]
  },
  {
   "cell_type": "code",
   "execution_count": 11,
   "id": "99aba0e8",
   "metadata": {
    "scrolled": true
   },
   "outputs": [
    {
     "name": "stdout",
     "output_type": "stream",
     "text": [
      "The status of the solution: Optimal\n",
      "The objective value = 3.0\n",
      "X = [[0.0, 1.0, 0.0, 0.0], [1.0, 0.0, 0.0, 0.0], [0.0, 0.0, 1.0, 0.0], [0.0, 0.0, 1.0, 0.0], [0.0, 1.0, 0.0, 0.0], [0.0, 0.0, 1.0, 0.0], [1.0, 0.0, 0.0, 0.0], [1.0, 0.0, 0.0, 0.0]]\n",
      "Y = [1.0, 1.0, 1.0, 0.0]\n",
      "Item 0 is packed in bin  1\n",
      "Item 1 is packed in bin  0\n",
      "Item 2 is packed in bin  2\n",
      "Item 3 is packed in bin  2\n",
      "Item 4 is packed in bin  1\n",
      "Item 5 is packed in bin  2\n",
      "Item 6 is packed in bin  0\n",
      "Item 7 is packed in bin  0\n"
     ]
    }
   ],
   "source": [
    "# Since the 1D-CSP is identical to the BPP, you can also solve the 1D-CSP by calling the BPP model\n",
    "MODEL_BPP(60,False)"
   ]
  },
  {
   "cell_type": "markdown",
   "id": "a9d0675d",
   "metadata": {},
   "source": [
    "# The workforce assignment problem\n",
    "The bin packing problem can also be used for the workforce assignment problem (but will not be further discussed here)"
   ]
  },
  {
   "cell_type": "markdown",
   "id": "e79645e7",
   "metadata": {},
   "source": [
    "# The robotic process automation problem\n",
    "\n",
    "= The robotic process automation problem is an extended version of the bin packing problem, and the Python code of this model is available as a separate jupyter notebook file.\n",
    "\n",
    "PARAMETERS <br>\n",
    "- $R$: Set of robots (index $r$)\n",
    "- $T$: Set of periods (index $t$)\n",
    "- $P$: Set of transaction types (index $p$)\n",
    "- $v_p$: Volume of transactions of type $p$\n",
    "- $t_p$: Processing time of transaction $p$ (in seconds)\n",
    "- $l_t$: Length of period $t$ (in seconds)\n",
    "- $w_{t,p}$: 1, if transaction type $p$ can be processed in period $t$, 0 otherwise <br>\n",
    "\n",
    "DECISION VARIABLES <br>\n",
    "- $x_{r,k,t}$ Number of transactions of type $p$ processed by robot $r$ in period $t$\n",
    "- $Z_{r}$ 1, if robot $r$ is active, 0 otherwise <br>\n",
    "\n",
    "MODEL <br>\n",
    "\\begin{align*}\n",
    "\\mathrm{Minimise} \\sum_{r = 1}^{|R|} Z_{r}\n",
    "\\end{align*}\n",
    "\\begin{align}\n",
    "\\mathrm{s.t.}\n",
    "& \\sum_{t = 1}^{|T|} \\sum_{r = 1}^{|R|} x_{r,t,p} = v_p  \t\t\t&& p = 1, \\ldots, |P| \\label{RPA_volume}\\\\\n",
    "& \\sum_{r = 1}^{|R|}  x_{r,t,p} \\leq w_{p,t} \\times v_p  \t\t\t\t\t&& p = 1, \\ldots, |P|, t = 1, \\ldots, |T|\\label{RPA_market}\\\\\n",
    "& \\sum_{p = 1}^{|P|} t_p \\times x_{r,t,p} \\leq  l_{t} \\times Z_p  \t\t\t\t&& t = 1, \\ldots, |T|, r = 1, \\ldots, |R|\\label{RPA_period}\\\\\n",
    "& x_{r,t,p} \\in \\{0,1\\}\t\t\t\t\t\t\t\t&&r = 1, \\ldots, |R|, t = 1, \\ldots, |T|, p = 1, \\ldots, |P|\\label{RPA_X}\\\\\n",
    "& Z_r \\in \\{0,1\\}\t\t\t\t\t\t\t\t\t&& r = 1, \\ldots, |R|\\label{RPA_Z}\n",
    "\\end{align}\n",
    "\n",
    "\n"
   ]
  },
  {
   "cell_type": "markdown",
   "id": "878e385d",
   "metadata": {},
   "source": [
    "# The 2D cutting stock problem\n"
   ]
  },
  {
   "cell_type": "markdown",
   "id": "a2f4510a",
   "metadata": {},
   "source": [
    "Cf. Separate exercise (in MS Excel available from website)"
   ]
  },
  {
   "cell_type": "code",
   "execution_count": null,
   "id": "f9e84524",
   "metadata": {},
   "outputs": [],
   "source": []
  },
  {
   "cell_type": "code",
   "execution_count": null,
   "id": "d41646ca",
   "metadata": {},
   "outputs": [],
   "source": []
  }
 ],
 "metadata": {
  "kernelspec": {
   "display_name": "Python 3 (ipykernel)",
   "language": "python",
   "name": "python3"
  },
  "language_info": {
   "codemirror_mode": {
    "name": "ipython",
    "version": 3
   },
   "file_extension": ".py",
   "mimetype": "text/x-python",
   "name": "python",
   "nbconvert_exporter": "python",
   "pygments_lexer": "ipython3",
   "version": "3.9.7"
  }
 },
 "nbformat": 4,
 "nbformat_minor": 5
}
